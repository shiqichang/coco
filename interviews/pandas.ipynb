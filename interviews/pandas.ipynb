{
 "cells": [
  {
   "cell_type": "markdown",
   "metadata": {},
   "source": [
    "# 一、准备工作"
   ]
  },
  {
   "cell_type": "code",
   "execution_count": 11,
   "metadata": {},
   "outputs": [],
   "source": [
    "import numpy as np\n",
    "import pandas as pd"
   ]
  },
  {
   "cell_type": "markdown",
   "metadata": {},
   "source": [
    "# 二、生成对象\n",
    "\n",
    "## 1. 使用列表创建一个 Series"
   ]
  },
  {
   "cell_type": "code",
   "execution_count": 12,
   "metadata": {},
   "outputs": [
    {
     "data": {
      "text/plain": [
       "0    1.0\n",
       "1    3.0\n",
       "2    5.0\n",
       "3    NaN\n",
       "4    6.0\n",
       "5    8.0\n",
       "dtype: float64"
      ]
     },
     "execution_count": 12,
     "metadata": {},
     "output_type": "execute_result"
    }
   ],
   "source": [
    "s = pd.Series([1, 3, 5, np.nan, 6, 8])\n",
    "s"
   ]
  },
  {
   "cell_type": "markdown",
   "metadata": {},
   "source": [
    "- 一个 series 是一个一维的标记数组，可以容纳任何数据类型（整数、字符串、浮点数、Python 对象）；\n",
    "- 与 Python 列表不同，一个 series 总是包含相同类型的数据。\n",
    "\n",
    "## 2. 使用列表创建一个 DataFrame"
   ]
  },
  {
   "cell_type": "code",
   "execution_count": 14,
   "metadata": {},
   "outputs": [
    {
     "data": {
      "text/html": [
       "<div>\n",
       "<style scoped>\n",
       "    .dataframe tbody tr th:only-of-type {\n",
       "        vertical-align: middle;\n",
       "    }\n",
       "\n",
       "    .dataframe tbody tr th {\n",
       "        vertical-align: top;\n",
       "    }\n",
       "\n",
       "    .dataframe thead th {\n",
       "        text-align: right;\n",
       "    }\n",
       "</style>\n",
       "<table border=\"1\" class=\"dataframe\">\n",
       "  <thead>\n",
       "    <tr style=\"text-align: right;\">\n",
       "      <th></th>\n",
       "      <th>0</th>\n",
       "    </tr>\n",
       "  </thead>\n",
       "  <tbody>\n",
       "    <tr>\n",
       "      <td>0</td>\n",
       "      <td>Gamer47</td>\n",
       "    </tr>\n",
       "    <tr>\n",
       "      <td>1</td>\n",
       "      <td>Shox</td>\n",
       "    </tr>\n",
       "    <tr>\n",
       "      <td>2</td>\n",
       "      <td>Simple</td>\n",
       "    </tr>\n",
       "  </tbody>\n",
       "</table>\n",
       "</div>"
      ],
      "text/plain": [
       "         0\n",
       "0  Gamer47\n",
       "1     Shox\n",
       "2   Simple"
      ]
     },
     "execution_count": 14,
     "metadata": {},
     "output_type": "execute_result"
    }
   ],
   "source": [
    "lst = ['Gamer47', 'Shox', 'Simple']\n",
    "df = pd.DataFrame(lst)\n",
    "df"
   ]
  },
  {
   "cell_type": "markdown",
   "metadata": {},
   "source": [
    "## 3. 使用 Series 字典对象生成 DataFrame"
   ]
  },
  {
   "cell_type": "code",
   "execution_count": 17,
   "metadata": {},
   "outputs": [
    {
     "data": {
      "text/html": [
       "<div>\n",
       "<style scoped>\n",
       "    .dataframe tbody tr th:only-of-type {\n",
       "        vertical-align: middle;\n",
       "    }\n",
       "\n",
       "    .dataframe tbody tr th {\n",
       "        vertical-align: top;\n",
       "    }\n",
       "\n",
       "    .dataframe thead th {\n",
       "        text-align: right;\n",
       "    }\n",
       "</style>\n",
       "<table border=\"1\" class=\"dataframe\">\n",
       "  <thead>\n",
       "    <tr style=\"text-align: right;\">\n",
       "      <th></th>\n",
       "      <th>A</th>\n",
       "      <th>B</th>\n",
       "      <th>C</th>\n",
       "      <th>D</th>\n",
       "      <th>E</th>\n",
       "      <th>F</th>\n",
       "    </tr>\n",
       "  </thead>\n",
       "  <tbody>\n",
       "    <tr>\n",
       "      <td>0</td>\n",
       "      <td>1</td>\n",
       "      <td>2021-02-19</td>\n",
       "      <td>1.0</td>\n",
       "      <td>3</td>\n",
       "      <td>test</td>\n",
       "      <td>foo</td>\n",
       "    </tr>\n",
       "    <tr>\n",
       "      <td>1</td>\n",
       "      <td>1</td>\n",
       "      <td>2021-02-19</td>\n",
       "      <td>1.0</td>\n",
       "      <td>3</td>\n",
       "      <td>train</td>\n",
       "      <td>foo</td>\n",
       "    </tr>\n",
       "    <tr>\n",
       "      <td>2</td>\n",
       "      <td>1</td>\n",
       "      <td>2021-02-19</td>\n",
       "      <td>1.0</td>\n",
       "      <td>3</td>\n",
       "      <td>test</td>\n",
       "      <td>foo</td>\n",
       "    </tr>\n",
       "    <tr>\n",
       "      <td>3</td>\n",
       "      <td>1</td>\n",
       "      <td>2021-02-19</td>\n",
       "      <td>1.0</td>\n",
       "      <td>3</td>\n",
       "      <td>train</td>\n",
       "      <td>foo</td>\n",
       "    </tr>\n",
       "  </tbody>\n",
       "</table>\n",
       "</div>"
      ],
      "text/plain": [
       "   A          B    C  D      E    F\n",
       "0  1 2021-02-19  1.0  3   test  foo\n",
       "1  1 2021-02-19  1.0  3  train  foo\n",
       "2  1 2021-02-19  1.0  3   test  foo\n",
       "3  1 2021-02-19  1.0  3  train  foo"
      ]
     },
     "execution_count": 17,
     "metadata": {},
     "output_type": "execute_result"
    }
   ],
   "source": [
    "df2 = pd.DataFrame({'A': 1,\n",
    "                    'B': pd.Timestamp('20210219'),\n",
    "                    'C': pd.Series(1, index=list(range(4)), dtype='float32'),\n",
    "                    'D': np.array([3] * 4, dtype='int32'),\n",
    "                    'E': pd.Categorical(['test', 'train', 'test', 'train']),\n",
    "                    'F': 'foo'})\n",
    "df2"
   ]
  },
  {
   "cell_type": "markdown",
   "metadata": {},
   "source": [
    "## 4. 创建一个空的 DataFrame"
   ]
  },
  {
   "cell_type": "code",
   "execution_count": 18,
   "metadata": {},
   "outputs": [
    {
     "data": {
      "text/html": [
       "<div>\n",
       "<style scoped>\n",
       "    .dataframe tbody tr th:only-of-type {\n",
       "        vertical-align: middle;\n",
       "    }\n",
       "\n",
       "    .dataframe tbody tr th {\n",
       "        vertical-align: top;\n",
       "    }\n",
       "\n",
       "    .dataframe thead th {\n",
       "        text-align: right;\n",
       "    }\n",
       "</style>\n",
       "<table border=\"1\" class=\"dataframe\">\n",
       "  <thead>\n",
       "    <tr style=\"text-align: right;\">\n",
       "      <th></th>\n",
       "    </tr>\n",
       "  </thead>\n",
       "  <tbody>\n",
       "  </tbody>\n",
       "</table>\n",
       "</div>"
      ],
      "text/plain": [
       "Empty DataFrame\n",
       "Columns: []\n",
       "Index: []"
      ]
     },
     "execution_count": 18,
     "metadata": {},
     "output_type": "execute_result"
    }
   ],
   "source": [
    "df = pd.DataFrame()\n",
    "df"
   ]
  },
  {
   "cell_type": "markdown",
   "metadata": {},
   "source": [
    "# 三、查看数据"
   ]
  },
  {
   "cell_type": "code",
   "execution_count": 21,
   "metadata": {},
   "outputs": [
    {
     "data": {
      "text/html": [
       "<div>\n",
       "<style scoped>\n",
       "    .dataframe tbody tr th:only-of-type {\n",
       "        vertical-align: middle;\n",
       "    }\n",
       "\n",
       "    .dataframe tbody tr th {\n",
       "        vertical-align: top;\n",
       "    }\n",
       "\n",
       "    .dataframe thead th {\n",
       "        text-align: right;\n",
       "    }\n",
       "</style>\n",
       "<table border=\"1\" class=\"dataframe\">\n",
       "  <thead>\n",
       "    <tr style=\"text-align: right;\">\n",
       "      <th></th>\n",
       "      <th>A</th>\n",
       "      <th>B</th>\n",
       "      <th>C</th>\n",
       "      <th>D</th>\n",
       "    </tr>\n",
       "  </thead>\n",
       "  <tbody>\n",
       "    <tr>\n",
       "      <td>2021-02-19</td>\n",
       "      <td>-0.085578</td>\n",
       "      <td>-1.355016</td>\n",
       "      <td>-0.827000</td>\n",
       "      <td>-0.689935</td>\n",
       "    </tr>\n",
       "    <tr>\n",
       "      <td>2021-02-20</td>\n",
       "      <td>-0.948585</td>\n",
       "      <td>-0.349289</td>\n",
       "      <td>-0.267233</td>\n",
       "      <td>0.844029</td>\n",
       "    </tr>\n",
       "    <tr>\n",
       "      <td>2021-02-21</td>\n",
       "      <td>-1.777166</td>\n",
       "      <td>0.739841</td>\n",
       "      <td>-0.819841</td>\n",
       "      <td>1.020413</td>\n",
       "    </tr>\n",
       "    <tr>\n",
       "      <td>2021-02-22</td>\n",
       "      <td>-0.717299</td>\n",
       "      <td>0.364915</td>\n",
       "      <td>2.610492</td>\n",
       "      <td>0.020046</td>\n",
       "    </tr>\n",
       "    <tr>\n",
       "      <td>2021-02-23</td>\n",
       "      <td>-0.110647</td>\n",
       "      <td>-0.755049</td>\n",
       "      <td>-0.182103</td>\n",
       "      <td>1.972917</td>\n",
       "    </tr>\n",
       "    <tr>\n",
       "      <td>2021-02-24</td>\n",
       "      <td>0.024090</td>\n",
       "      <td>1.309118</td>\n",
       "      <td>-0.184814</td>\n",
       "      <td>0.630202</td>\n",
       "    </tr>\n",
       "  </tbody>\n",
       "</table>\n",
       "</div>"
      ],
      "text/plain": [
       "                   A         B         C         D\n",
       "2021-02-19 -0.085578 -1.355016 -0.827000 -0.689935\n",
       "2021-02-20 -0.948585 -0.349289 -0.267233  0.844029\n",
       "2021-02-21 -1.777166  0.739841 -0.819841  1.020413\n",
       "2021-02-22 -0.717299  0.364915  2.610492  0.020046\n",
       "2021-02-23 -0.110647 -0.755049 -0.182103  1.972917\n",
       "2021-02-24  0.024090  1.309118 -0.184814  0.630202"
      ]
     },
     "execution_count": 21,
     "metadata": {},
     "output_type": "execute_result"
    }
   ],
   "source": [
    "dates = pd.date_range('20210219', periods=6)\n",
    "df = pd.DataFrame(np.random.randn(6, 4), index=dates, columns=list('ABCD'))\n",
    "df"
   ]
  },
  {
   "cell_type": "markdown",
   "metadata": {},
   "source": [
    "## 1. 查看头部数据"
   ]
  },
  {
   "cell_type": "code",
   "execution_count": 22,
   "metadata": {},
   "outputs": [
    {
     "data": {
      "text/html": [
       "<div>\n",
       "<style scoped>\n",
       "    .dataframe tbody tr th:only-of-type {\n",
       "        vertical-align: middle;\n",
       "    }\n",
       "\n",
       "    .dataframe tbody tr th {\n",
       "        vertical-align: top;\n",
       "    }\n",
       "\n",
       "    .dataframe thead th {\n",
       "        text-align: right;\n",
       "    }\n",
       "</style>\n",
       "<table border=\"1\" class=\"dataframe\">\n",
       "  <thead>\n",
       "    <tr style=\"text-align: right;\">\n",
       "      <th></th>\n",
       "      <th>A</th>\n",
       "      <th>B</th>\n",
       "      <th>C</th>\n",
       "      <th>D</th>\n",
       "    </tr>\n",
       "  </thead>\n",
       "  <tbody>\n",
       "    <tr>\n",
       "      <td>2021-02-19</td>\n",
       "      <td>-0.085578</td>\n",
       "      <td>-1.355016</td>\n",
       "      <td>-0.827000</td>\n",
       "      <td>-0.689935</td>\n",
       "    </tr>\n",
       "    <tr>\n",
       "      <td>2021-02-20</td>\n",
       "      <td>-0.948585</td>\n",
       "      <td>-0.349289</td>\n",
       "      <td>-0.267233</td>\n",
       "      <td>0.844029</td>\n",
       "    </tr>\n",
       "    <tr>\n",
       "      <td>2021-02-21</td>\n",
       "      <td>-1.777166</td>\n",
       "      <td>0.739841</td>\n",
       "      <td>-0.819841</td>\n",
       "      <td>1.020413</td>\n",
       "    </tr>\n",
       "    <tr>\n",
       "      <td>2021-02-22</td>\n",
       "      <td>-0.717299</td>\n",
       "      <td>0.364915</td>\n",
       "      <td>2.610492</td>\n",
       "      <td>0.020046</td>\n",
       "    </tr>\n",
       "    <tr>\n",
       "      <td>2021-02-23</td>\n",
       "      <td>-0.110647</td>\n",
       "      <td>-0.755049</td>\n",
       "      <td>-0.182103</td>\n",
       "      <td>1.972917</td>\n",
       "    </tr>\n",
       "  </tbody>\n",
       "</table>\n",
       "</div>"
      ],
      "text/plain": [
       "                   A         B         C         D\n",
       "2021-02-19 -0.085578 -1.355016 -0.827000 -0.689935\n",
       "2021-02-20 -0.948585 -0.349289 -0.267233  0.844029\n",
       "2021-02-21 -1.777166  0.739841 -0.819841  1.020413\n",
       "2021-02-22 -0.717299  0.364915  2.610492  0.020046\n",
       "2021-02-23 -0.110647 -0.755049 -0.182103  1.972917"
      ]
     },
     "execution_count": 22,
     "metadata": {},
     "output_type": "execute_result"
    }
   ],
   "source": [
    "df.head()"
   ]
  },
  {
   "cell_type": "markdown",
   "metadata": {},
   "source": [
    "## 2. 查看尾部数据"
   ]
  },
  {
   "cell_type": "code",
   "execution_count": 23,
   "metadata": {},
   "outputs": [
    {
     "data": {
      "text/html": [
       "<div>\n",
       "<style scoped>\n",
       "    .dataframe tbody tr th:only-of-type {\n",
       "        vertical-align: middle;\n",
       "    }\n",
       "\n",
       "    .dataframe tbody tr th {\n",
       "        vertical-align: top;\n",
       "    }\n",
       "\n",
       "    .dataframe thead th {\n",
       "        text-align: right;\n",
       "    }\n",
       "</style>\n",
       "<table border=\"1\" class=\"dataframe\">\n",
       "  <thead>\n",
       "    <tr style=\"text-align: right;\">\n",
       "      <th></th>\n",
       "      <th>A</th>\n",
       "      <th>B</th>\n",
       "      <th>C</th>\n",
       "      <th>D</th>\n",
       "    </tr>\n",
       "  </thead>\n",
       "  <tbody>\n",
       "    <tr>\n",
       "      <td>2021-02-20</td>\n",
       "      <td>-0.948585</td>\n",
       "      <td>-0.349289</td>\n",
       "      <td>-0.267233</td>\n",
       "      <td>0.844029</td>\n",
       "    </tr>\n",
       "    <tr>\n",
       "      <td>2021-02-21</td>\n",
       "      <td>-1.777166</td>\n",
       "      <td>0.739841</td>\n",
       "      <td>-0.819841</td>\n",
       "      <td>1.020413</td>\n",
       "    </tr>\n",
       "    <tr>\n",
       "      <td>2021-02-22</td>\n",
       "      <td>-0.717299</td>\n",
       "      <td>0.364915</td>\n",
       "      <td>2.610492</td>\n",
       "      <td>0.020046</td>\n",
       "    </tr>\n",
       "    <tr>\n",
       "      <td>2021-02-23</td>\n",
       "      <td>-0.110647</td>\n",
       "      <td>-0.755049</td>\n",
       "      <td>-0.182103</td>\n",
       "      <td>1.972917</td>\n",
       "    </tr>\n",
       "    <tr>\n",
       "      <td>2021-02-24</td>\n",
       "      <td>0.024090</td>\n",
       "      <td>1.309118</td>\n",
       "      <td>-0.184814</td>\n",
       "      <td>0.630202</td>\n",
       "    </tr>\n",
       "  </tbody>\n",
       "</table>\n",
       "</div>"
      ],
      "text/plain": [
       "                   A         B         C         D\n",
       "2021-02-20 -0.948585 -0.349289 -0.267233  0.844029\n",
       "2021-02-21 -1.777166  0.739841 -0.819841  1.020413\n",
       "2021-02-22 -0.717299  0.364915  2.610492  0.020046\n",
       "2021-02-23 -0.110647 -0.755049 -0.182103  1.972917\n",
       "2021-02-24  0.024090  1.309118 -0.184814  0.630202"
      ]
     },
     "execution_count": 23,
     "metadata": {},
     "output_type": "execute_result"
    }
   ],
   "source": [
    "df.tail()"
   ]
  },
  {
   "cell_type": "markdown",
   "metadata": {},
   "source": [
    "## 3. 查看数据的统计摘要"
   ]
  },
  {
   "cell_type": "code",
   "execution_count": 24,
   "metadata": {},
   "outputs": [
    {
     "data": {
      "text/html": [
       "<div>\n",
       "<style scoped>\n",
       "    .dataframe tbody tr th:only-of-type {\n",
       "        vertical-align: middle;\n",
       "    }\n",
       "\n",
       "    .dataframe tbody tr th {\n",
       "        vertical-align: top;\n",
       "    }\n",
       "\n",
       "    .dataframe thead th {\n",
       "        text-align: right;\n",
       "    }\n",
       "</style>\n",
       "<table border=\"1\" class=\"dataframe\">\n",
       "  <thead>\n",
       "    <tr style=\"text-align: right;\">\n",
       "      <th></th>\n",
       "      <th>A</th>\n",
       "      <th>B</th>\n",
       "      <th>C</th>\n",
       "      <th>D</th>\n",
       "    </tr>\n",
       "  </thead>\n",
       "  <tbody>\n",
       "    <tr>\n",
       "      <td>count</td>\n",
       "      <td>6.000000</td>\n",
       "      <td>6.000000</td>\n",
       "      <td>6.000000</td>\n",
       "      <td>6.000000</td>\n",
       "    </tr>\n",
       "    <tr>\n",
       "      <td>mean</td>\n",
       "      <td>-0.602531</td>\n",
       "      <td>-0.007580</td>\n",
       "      <td>0.054917</td>\n",
       "      <td>0.632945</td>\n",
       "    </tr>\n",
       "    <tr>\n",
       "      <td>std</td>\n",
       "      <td>0.694915</td>\n",
       "      <td>0.992184</td>\n",
       "      <td>1.287740</td>\n",
       "      <td>0.907290</td>\n",
       "    </tr>\n",
       "    <tr>\n",
       "      <td>min</td>\n",
       "      <td>-1.777166</td>\n",
       "      <td>-1.355016</td>\n",
       "      <td>-0.827000</td>\n",
       "      <td>-0.689935</td>\n",
       "    </tr>\n",
       "    <tr>\n",
       "      <td>25%</td>\n",
       "      <td>-0.890763</td>\n",
       "      <td>-0.653609</td>\n",
       "      <td>-0.681689</td>\n",
       "      <td>0.172585</td>\n",
       "    </tr>\n",
       "    <tr>\n",
       "      <td>50%</td>\n",
       "      <td>-0.413973</td>\n",
       "      <td>0.007813</td>\n",
       "      <td>-0.226024</td>\n",
       "      <td>0.737116</td>\n",
       "    </tr>\n",
       "    <tr>\n",
       "      <td>75%</td>\n",
       "      <td>-0.091845</td>\n",
       "      <td>0.646110</td>\n",
       "      <td>-0.182781</td>\n",
       "      <td>0.976317</td>\n",
       "    </tr>\n",
       "    <tr>\n",
       "      <td>max</td>\n",
       "      <td>0.024090</td>\n",
       "      <td>1.309118</td>\n",
       "      <td>2.610492</td>\n",
       "      <td>1.972917</td>\n",
       "    </tr>\n",
       "  </tbody>\n",
       "</table>\n",
       "</div>"
      ],
      "text/plain": [
       "              A         B         C         D\n",
       "count  6.000000  6.000000  6.000000  6.000000\n",
       "mean  -0.602531 -0.007580  0.054917  0.632945\n",
       "std    0.694915  0.992184  1.287740  0.907290\n",
       "min   -1.777166 -1.355016 -0.827000 -0.689935\n",
       "25%   -0.890763 -0.653609 -0.681689  0.172585\n",
       "50%   -0.413973  0.007813 -0.226024  0.737116\n",
       "75%   -0.091845  0.646110 -0.182781  0.976317\n",
       "max    0.024090  1.309118  2.610492  1.972917"
      ]
     },
     "execution_count": 24,
     "metadata": {},
     "output_type": "execute_result"
    }
   ],
   "source": [
    "df.describe()"
   ]
  },
  {
   "cell_type": "markdown",
   "metadata": {},
   "source": [
    "## 4. 查看索引和列名"
   ]
  },
  {
   "cell_type": "code",
   "execution_count": 25,
   "metadata": {},
   "outputs": [
    {
     "data": {
      "text/plain": [
       "DatetimeIndex(['2021-02-19', '2021-02-20', '2021-02-21', '2021-02-22',\n",
       "               '2021-02-23', '2021-02-24'],\n",
       "              dtype='datetime64[ns]', freq='D')"
      ]
     },
     "execution_count": 25,
     "metadata": {},
     "output_type": "execute_result"
    }
   ],
   "source": [
    "df.index"
   ]
  },
  {
   "cell_type": "code",
   "execution_count": 26,
   "metadata": {},
   "outputs": [
    {
     "data": {
      "text/plain": [
       "Index(['A', 'B', 'C', 'D'], dtype='object')"
      ]
     },
     "execution_count": 26,
     "metadata": {},
     "output_type": "execute_result"
    }
   ],
   "source": [
    "df.columns"
   ]
  },
  {
   "cell_type": "markdown",
   "metadata": {},
   "source": [
    "# 四、索引\n",
    "\n",
    "## 1. 简述 Pandas Index\n",
    "\n",
    "pandas 支持四种类型的多轴索引，它们统称索引器：\n",
    "\n",
    "- DataFrame.[] 称为索引运算符\n",
    "- DataFrame.loc[] 用于标签\n",
    "- DataFrame.iloc[] 用于基于位置和整数\n",
    "- DataFrame.ix[] 用于基于标签和整数\n",
    "\n",
    "## 2. 定义重新索引 (Reindexing)"
   ]
  },
  {
   "cell_type": "code",
   "execution_count": 33,
   "metadata": {},
   "outputs": [
    {
     "data": {
      "text/html": [
       "<div>\n",
       "<style scoped>\n",
       "    .dataframe tbody tr th:only-of-type {\n",
       "        vertical-align: middle;\n",
       "    }\n",
       "\n",
       "    .dataframe tbody tr th {\n",
       "        vertical-align: top;\n",
       "    }\n",
       "\n",
       "    .dataframe thead th {\n",
       "        text-align: right;\n",
       "    }\n",
       "</style>\n",
       "<table border=\"1\" class=\"dataframe\">\n",
       "  <thead>\n",
       "    <tr style=\"text-align: right;\">\n",
       "      <th></th>\n",
       "      <th>A</th>\n",
       "      <th>C</th>\n",
       "      <th>B</th>\n",
       "    </tr>\n",
       "  </thead>\n",
       "  <tbody>\n",
       "    <tr>\n",
       "      <td>0</td>\n",
       "      <td>2021-02-19</td>\n",
       "      <td>Medium</td>\n",
       "      <td>NaN</td>\n",
       "    </tr>\n",
       "    <tr>\n",
       "      <td>2</td>\n",
       "      <td>2021-02-21</td>\n",
       "      <td>Medium</td>\n",
       "      <td>NaN</td>\n",
       "    </tr>\n",
       "    <tr>\n",
       "      <td>5</td>\n",
       "      <td>2021-02-24</td>\n",
       "      <td>Medium</td>\n",
       "      <td>NaN</td>\n",
       "    </tr>\n",
       "  </tbody>\n",
       "</table>\n",
       "</div>"
      ],
      "text/plain": [
       "           A       C   B\n",
       "0 2021-02-19  Medium NaN\n",
       "2 2021-02-21  Medium NaN\n",
       "5 2021-02-24  Medium NaN"
      ]
     },
     "execution_count": 33,
     "metadata": {},
     "output_type": "execute_result"
    }
   ],
   "source": [
    "N = 20\n",
    "df = pd.DataFrame({\n",
    "    'A': pd.date_range(start='20210219', periods=N, freq='D'),\n",
    "    'x': np.linspace(0, stop=N-1, num=N),\n",
    "    'y': np.random.rand(N),\n",
    "    'C': np.random.choice(['Low', 'Medium', 'High'], N).tolist(),\n",
    "    'D': np.random.normal(100, 10, size=(N)).tolist()\n",
    "})\n",
    "\n",
    "df_reindexed = df.reindex(index=[0, 2, 5], columns=['A', 'C', 'B'])\n",
    "df_reindexed"
   ]
  },
  {
   "cell_type": "markdown",
   "metadata": {},
   "source": [
    "## 3. 设置索引\n",
    "\n",
    "pandas.set_index() 是一种将列表、序列或者 DataFrame 设置为 DataFrame 索引的方法。\n",
    "\n",
    "**语法：** `DataFrame.set_index(keys, inplace=False)`"
   ]
  },
  {
   "cell_type": "code",
   "execution_count": 34,
   "metadata": {},
   "outputs": [
    {
     "data": {
      "text/html": [
       "<div>\n",
       "<style scoped>\n",
       "    .dataframe tbody tr th:only-of-type {\n",
       "        vertical-align: middle;\n",
       "    }\n",
       "\n",
       "    .dataframe tbody tr th {\n",
       "        vertical-align: top;\n",
       "    }\n",
       "\n",
       "    .dataframe thead th {\n",
       "        text-align: right;\n",
       "    }\n",
       "</style>\n",
       "<table border=\"1\" class=\"dataframe\">\n",
       "  <thead>\n",
       "    <tr style=\"text-align: right;\">\n",
       "      <th></th>\n",
       "      <th>x</th>\n",
       "      <th>y</th>\n",
       "      <th>C</th>\n",
       "      <th>D</th>\n",
       "    </tr>\n",
       "    <tr>\n",
       "      <th>A</th>\n",
       "      <th></th>\n",
       "      <th></th>\n",
       "      <th></th>\n",
       "      <th></th>\n",
       "    </tr>\n",
       "  </thead>\n",
       "  <tbody>\n",
       "    <tr>\n",
       "      <td>2021-02-19</td>\n",
       "      <td>0.0</td>\n",
       "      <td>0.199560</td>\n",
       "      <td>Medium</td>\n",
       "      <td>111.333360</td>\n",
       "    </tr>\n",
       "    <tr>\n",
       "      <td>2021-02-20</td>\n",
       "      <td>1.0</td>\n",
       "      <td>0.602096</td>\n",
       "      <td>High</td>\n",
       "      <td>83.369119</td>\n",
       "    </tr>\n",
       "    <tr>\n",
       "      <td>2021-02-21</td>\n",
       "      <td>2.0</td>\n",
       "      <td>0.575078</td>\n",
       "      <td>Medium</td>\n",
       "      <td>99.012966</td>\n",
       "    </tr>\n",
       "    <tr>\n",
       "      <td>2021-02-22</td>\n",
       "      <td>3.0</td>\n",
       "      <td>0.860347</td>\n",
       "      <td>Medium</td>\n",
       "      <td>105.831498</td>\n",
       "    </tr>\n",
       "    <tr>\n",
       "      <td>2021-02-23</td>\n",
       "      <td>4.0</td>\n",
       "      <td>0.445448</td>\n",
       "      <td>High</td>\n",
       "      <td>113.167630</td>\n",
       "    </tr>\n",
       "  </tbody>\n",
       "</table>\n",
       "</div>"
      ],
      "text/plain": [
       "              x         y       C           D\n",
       "A                                            \n",
       "2021-02-19  0.0  0.199560  Medium  111.333360\n",
       "2021-02-20  1.0  0.602096    High   83.369119\n",
       "2021-02-21  2.0  0.575078  Medium   99.012966\n",
       "2021-02-22  3.0  0.860347  Medium  105.831498\n",
       "2021-02-23  4.0  0.445448    High  113.167630"
      ]
     },
     "execution_count": 34,
     "metadata": {},
     "output_type": "execute_result"
    }
   ],
   "source": [
    "df.set_index('A', inplace=True)\n",
    "df.head()"
   ]
  },
  {
   "cell_type": "markdown",
   "metadata": {},
   "source": [
    "## 4. 重置索引\n",
    "\n",
    "pandas.Series.reset_index(): 生成一个新的 DataFrame 或带有重置索引的 Series."
   ]
  },
  {
   "cell_type": "code",
   "execution_count": 35,
   "metadata": {},
   "outputs": [
    {
     "data": {
      "text/plain": [
       "Coca Cola    10\n",
       "Sprite       25\n",
       "Coke          3\n",
       "Fanta        11\n",
       "Dew          24\n",
       "ThumbsUp      6\n",
       "dtype: int64"
      ]
     },
     "execution_count": 35,
     "metadata": {},
     "output_type": "execute_result"
    }
   ],
   "source": [
    "sr = pd.Series([10, 25, 3, 11, 24, 6])\n",
    "index_ = ['Coca Cola', 'Sprite', 'Coke', 'Fanta', 'Dew', 'ThumbsUp']\n",
    "sr.index = index_\n",
    "sr"
   ]
  },
  {
   "cell_type": "code",
   "execution_count": 36,
   "metadata": {},
   "outputs": [
    {
     "data": {
      "text/html": [
       "<div>\n",
       "<style scoped>\n",
       "    .dataframe tbody tr th:only-of-type {\n",
       "        vertical-align: middle;\n",
       "    }\n",
       "\n",
       "    .dataframe tbody tr th {\n",
       "        vertical-align: top;\n",
       "    }\n",
       "\n",
       "    .dataframe thead th {\n",
       "        text-align: right;\n",
       "    }\n",
       "</style>\n",
       "<table border=\"1\" class=\"dataframe\">\n",
       "  <thead>\n",
       "    <tr style=\"text-align: right;\">\n",
       "      <th></th>\n",
       "      <th>index</th>\n",
       "      <th>0</th>\n",
       "    </tr>\n",
       "  </thead>\n",
       "  <tbody>\n",
       "    <tr>\n",
       "      <td>0</td>\n",
       "      <td>Coca Cola</td>\n",
       "      <td>10</td>\n",
       "    </tr>\n",
       "    <tr>\n",
       "      <td>1</td>\n",
       "      <td>Sprite</td>\n",
       "      <td>25</td>\n",
       "    </tr>\n",
       "    <tr>\n",
       "      <td>2</td>\n",
       "      <td>Coke</td>\n",
       "      <td>3</td>\n",
       "    </tr>\n",
       "    <tr>\n",
       "      <td>3</td>\n",
       "      <td>Fanta</td>\n",
       "      <td>11</td>\n",
       "    </tr>\n",
       "    <tr>\n",
       "      <td>4</td>\n",
       "      <td>Dew</td>\n",
       "      <td>24</td>\n",
       "    </tr>\n",
       "    <tr>\n",
       "      <td>5</td>\n",
       "      <td>ThumbsUp</td>\n",
       "      <td>6</td>\n",
       "    </tr>\n",
       "  </tbody>\n",
       "</table>\n",
       "</div>"
      ],
      "text/plain": [
       "       index   0\n",
       "0  Coca Cola  10\n",
       "1     Sprite  25\n",
       "2       Coke   3\n",
       "3      Fanta  11\n",
       "4        Dew  24\n",
       "5   ThumbsUp   6"
      ]
     },
     "execution_count": 36,
     "metadata": {},
     "output_type": "execute_result"
    }
   ],
   "source": [
    "result = sr.reset_index()\n",
    "result"
   ]
  },
  {
   "cell_type": "code",
   "execution_count": null,
   "metadata": {},
   "outputs": [],
   "source": []
  }
 ],
 "metadata": {
  "kernelspec": {
   "display_name": "Python 3",
   "language": "python",
   "name": "python3"
  },
  "language_info": {
   "codemirror_mode": {
    "name": "ipython",
    "version": 3
   },
   "file_extension": ".py",
   "mimetype": "text/x-python",
   "name": "python",
   "nbconvert_exporter": "python",
   "pygments_lexer": "ipython3",
   "version": "3.7.3"
  }
 },
 "nbformat": 4,
 "nbformat_minor": 2
}
